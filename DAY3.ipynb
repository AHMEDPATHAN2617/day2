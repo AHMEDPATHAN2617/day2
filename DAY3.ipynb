{
 "cells": [
  {
   "cell_type": "code",
   "execution_count": 2,
   "id": "16272927-a0b1-4aea-a7d2-f1ebc584b9b6",
   "metadata": {},
   "outputs": [],
   "source": [
    "INTRODUCTION TO f STRINGS:"
   ]
  },
  {
   "cell_type": "code",
   "execution_count": null,
   "id": "1642c7e7-3d5b-4462-a50c-1abefa42260a",
   "metadata": {},
   "outputs": [],
   "source": [
    "#GENERAL SYNTAX OF f STRINGS:f\" custom message {place_holder_1{place_holder_2}......{pla_holder_n}\""
   ]
  },
  {
   "cell_type": "code",
   "execution_count": null,
   "id": "68484186-1f9c-45ad-9ab8-cf7159f3e92e",
   "metadata": {},
   "outputs": [],
   "source": [
    "firstname='kumar'\n",
    "lastname='ravi'"
   ]
  },
  {
   "cell_type": "code",
   "execution_count": null,
   "id": "0a656f29-0997-4704-8af8-81a33e4e8767",
   "metadata": {},
   "outputs": [],
   "source": [
    "#req:want to get the full name....?"
   ]
  },
  {
   "cell_type": "code",
   "execution_count": 4,
   "id": "32b43066-a17d-499c-8dc6-1be4dc5040f0",
   "metadata": {},
   "outputs": [
    {
     "ename": "NameError",
     "evalue": "name 'firstname' is not defined",
     "output_type": "error",
     "traceback": [
      "\u001b[1;31m---------------------------------------------------------------------------\u001b[0m",
      "\u001b[1;31mNameError\u001b[0m                                 Traceback (most recent call last)",
      "Cell \u001b[1;32mIn[4], line 1\u001b[0m\n\u001b[1;32m----> 1\u001b[0m fullname\u001b[38;5;241m=\u001b[39m\u001b[38;5;124mf\u001b[39m\u001b[38;5;124m\"\u001b[39m\u001b[38;5;132;01m{\u001b[39;00mfirstname\u001b[38;5;132;01m}\u001b[39;00m\u001b[38;5;124m \u001b[39m\u001b[38;5;132;01m{\u001b[39;00mlastname\u001b[38;5;132;01m}\u001b[39;00m\u001b[38;5;124m\"\u001b[39m\n\u001b[0;32m      2\u001b[0m \u001b[38;5;28mprint\u001b[39m(fullname)\n",
      "\u001b[1;31mNameError\u001b[0m: name 'firstname' is not defined"
     ]
    }
   ],
   "source": [
    "fullname=f\"{firstname} {lastname}\"\n",
    "print(fullname)"
   ]
  },
  {
   "cell_type": "code",
   "execution_count": 7,
   "id": "75d6f576-1cd7-47d9-b866-5372b0cf981d",
   "metadata": {},
   "outputs": [
    {
     "name": "stdout",
     "output_type": "stream",
     "text": [
      "keep up the good work,\n"
     ]
    }
   ],
   "source": [
    "message=f\"keep up the good work,\"\n",
    "print(message)"
   ]
  },
  {
   "cell_type": "code",
   "execution_count": null,
   "id": "a0c74c95-2790-4652-b71f-deab195a8e53",
   "metadata": {},
   "outputs": [],
   "source": []
  },
  {
   "cell_type": "code",
   "execution_count": null,
   "id": "66cd1ec9-603d-4ecb-907b-cece3335a5f6",
   "metadata": {},
   "outputs": [],
   "source": []
  },
  {
   "cell_type": "code",
   "execution_count": null,
   "id": "620eb802-cefa-4923-ae4f-9bdec127f2ca",
   "metadata": {},
   "outputs": [],
   "source": [
    "UNDERSTANDING THE CONCEPT OF DELIMITERS:"
   ]
  },
  {
   "cell_type": "code",
   "execution_count": null,
   "id": "52f3bf7b-af60-44d7-bc24-74fae31a366a",
   "metadata": {},
   "outputs": [],
   "source": []
  },
  {
   "cell_type": "code",
   "execution_count": 11,
   "id": "3fafb760-d58b-4d58-aaa6-53769a0c9baa",
   "metadata": {},
   "outputs": [
    {
     "name": "stdout",
     "output_type": "stream",
     "text": [
      "PYTHONJAVAREACTSWIFTC++PASCAL\n"
     ]
    }
   ],
   "source": [
    "FAVOURITE_LANGUAGE=\"PYTHONJAVAREACTSWIFTC++PASCAL\"\n",
    "print(FAVOURITE_LANGUAGE)"
   ]
  },
  {
   "cell_type": "code",
   "execution_count": 16,
   "id": "63f3aea9-55b8-4b2c-8b22-abff9f57d31e",
   "metadata": {},
   "outputs": [
    {
     "name": "stdout",
     "output_type": "stream",
     "text": [
      "FAVOURITE_LANGUAGE:\n",
      "\tPYTHON\n",
      "\tJAVA\n",
      "\tREACT\n",
      "\tSWIFT\n",
      "\tC++\n",
      "\tPASCAL\n"
     ]
    }
   ],
   "source": [
    "print (\"FAVOURITE_LANGUAGE:\\n\\tPYTHON\\n\\tJAVA\\n\\tREACT\\n\\tSWIFT\\n\\tC++\\n\\tPASCAL\")        #\\T====>TAB DELIMITER"
   ]
  },
  {
   "cell_type": "code",
   "execution_count": null,
   "id": "d91037c7-1778-4573-9abe-ac5c0b140f1b",
   "metadata": {},
   "outputs": [],
   "source": [
    "REMOVING WHITESPACES from strings:"
   ]
  },
  {
   "cell_type": "code",
   "execution_count": 19,
   "id": "600b1cba-cfac-4be7-8536-f229dce09ba1",
   "metadata": {},
   "outputs": [
    {
     "name": "stdout",
     "output_type": "stream",
     "text": [
      "  python\n"
     ]
    }
   ],
   "source": [
    "name='  python'\n",
    "print(name)"
   ]
  },
  {
   "cell_type": "markdown",
   "id": "e25637d7-e8d5-4db0-ac99-e3c43af2822c",
   "metadata": {},
   "source": []
  },
  {
   "cell_type": "code",
   "execution_count": 18,
   "id": "6642bf4c-75bd-4593-b6c7-d316f918c403",
   "metadata": {},
   "outputs": [
    {
     "name": "stdout",
     "output_type": "stream",
     "text": [
      "python  \n"
     ]
    }
   ],
   "source": [
    "name2='python  '\n",
    "print(name2)"
   ]
  },
  {
   "cell_type": "code",
   "execution_count": 20,
   "id": "92533b98-23d5-4964-a2b3-2768aef7b459",
   "metadata": {},
   "outputs": [
    {
     "data": {
      "text/plain": [
       "'python'"
      ]
     },
     "execution_count": 20,
     "metadata": {},
     "output_type": "execute_result"
    }
   ],
   "source": [
    "name.lstrip()   #left stripping"
   ]
  },
  {
   "cell_type": "code",
   "execution_count": 22,
   "id": "a97d7eae-1ce9-4b05-b970-e975ac902aad",
   "metadata": {},
   "outputs": [
    {
     "data": {
      "text/plain": [
       "'python'"
      ]
     },
     "execution_count": 22,
     "metadata": {},
     "output_type": "execute_result"
    }
   ],
   "source": [
    "name2.rstrip()  #right stripping"
   ]
  },
  {
   "cell_type": "code",
   "execution_count": 23,
   "id": "9a8e7b0b-88d0-4093-8059-6e334dcfb93b",
   "metadata": {},
   "outputs": [
    {
     "name": "stdout",
     "output_type": "stream",
     "text": [
      "  python  \n"
     ]
    }
   ],
   "source": [
    "name3='  python  '\n",
    "print(name3)"
   ]
  },
  {
   "cell_type": "code",
   "execution_count": 24,
   "id": "61f69698-006d-4c6a-b8ca-6893108fec38",
   "metadata": {},
   "outputs": [
    {
     "data": {
      "text/plain": [
       "'python'"
      ]
     },
     "execution_count": 24,
     "metadata": {},
     "output_type": "execute_result"
    }
   ],
   "source": [
    "name3.strip()  #both left and right stripping"
   ]
  },
  {
   "cell_type": "code",
   "execution_count": 25,
   "id": "3298dd27-c3f4-4c8d-8012-e2fea76c9839",
   "metadata": {},
   "outputs": [
    {
     "name": "stdout",
     "output_type": "stream",
     "text": [
      "The Zen of Python, by Tim Peters\n",
      "\n",
      "Beautiful is better than ugly.\n",
      "Explicit is better than implicit.\n",
      "Simple is better than complex.\n",
      "Complex is better than complicated.\n",
      "Flat is better than nested.\n",
      "Sparse is better than dense.\n",
      "Readability counts.\n",
      "Special cases aren't special enough to break the rules.\n",
      "Although practicality beats purity.\n",
      "Errors should never pass silently.\n",
      "Unless explicitly silenced.\n",
      "In the face of ambiguity, refuse the temptation to guess.\n",
      "There should be one-- and preferably only one --obvious way to do it.\n",
      "Although that way may not be obvious at first unless you're Dutch.\n",
      "Now is better than never.\n",
      "Although never is often better than *right* now.\n",
      "If the implementation is hard to explain, it's a bad idea.\n",
      "If the implementation is easy to explain, it may be a good idea.\n",
      "Namespaces are one honking great idea -- let's do more of those!\n"
     ]
    }
   ],
   "source": [
    "import this"
   ]
  },
  {
   "cell_type": "code",
   "execution_count": null,
   "id": "01501ece-b798-4e16-8556-910a6a095374",
   "metadata": {},
   "outputs": [],
   "source": []
  },
  {
   "cell_type": "raw",
   "id": "d52aed2e-b2bd-4292-bf30-7d89adb91b81",
   "metadata": {},
   "source": []
  },
  {
   "cell_type": "code",
   "execution_count": null,
   "id": "d12364e3-f221-489d-9c9f-7316af290b45",
   "metadata": {},
   "outputs": [],
   "source": []
  },
  {
   "cell_type": "code",
   "execution_count": null,
   "id": "d833b0ad-0a28-48eb-b79a-f4ae9597288e",
   "metadata": {},
   "outputs": [],
   "source": []
  },
  {
   "cell_type": "code",
   "execution_count": null,
   "id": "40099380-0ba7-486e-969e-ec384d4ca72a",
   "metadata": {},
   "outputs": [],
   "source": []
  },
  {
   "cell_type": "code",
   "execution_count": null,
   "id": "67acf898-c3bc-4967-9f22-462c3bd5f22d",
   "metadata": {},
   "outputs": [],
   "source": []
  }
 ],
 "metadata": {
  "kernelspec": {
   "display_name": "Python 3 (ipykernel)",
   "language": "python",
   "name": "python3"
  },
  "language_info": {
   "codemirror_mode": {
    "name": "ipython",
    "version": 3
   },
   "file_extension": ".py",
   "mimetype": "text/x-python",
   "name": "python",
   "nbconvert_exporter": "python",
   "pygments_lexer": "ipython3",
   "version": "3.11.7"
  }
 },
 "nbformat": 4,
 "nbformat_minor": 5
}
